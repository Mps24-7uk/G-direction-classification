{
 "cells": [
  {
   "cell_type": "code",
   "execution_count": 1,
   "metadata": {
    "collapsed": true
   },
   "outputs": [],
   "source": [
    "import dlib\n",
    "import cv2\n",
    "import numpy as np\n",
    "from imutils import face_utils"
   ]
  },
  {
   "cell_type": "code",
   "execution_count": 2,
   "metadata": {
    "collapsed": true
   },
   "outputs": [],
   "source": [
    "detect = dlib.get_frontal_face_detector()\n",
    "predict = dlib.shape_predictor(\"C:/Users/mayank singh/Desktop/Opencv/shape_predictor_68_face_landmarks.dat\")"
   ]
  },
  {
   "cell_type": "code",
   "execution_count": 3,
   "metadata": {
    "collapsed": true
   },
   "outputs": [],
   "source": [
    "def pupil(Eye):\n",
    "    cv2.drawContours(mask, Eye, -1, (255, 255, 225), -1)\n",
    "    result = np.bitwise_and(frame,mask)\n",
    "    result[np.where((result==[0,0,0]).all(axis=2))] = [255,255,255]\n",
    "    ret,thresh1=cv2.threshold(cv2.cvtColor(result,cv2.COLOR_BGR2GRAY),25,255,cv2.THRESH_BINARY)\n",
    "    _,contours,_=cv2.findContours(thresh1,cv2.RETR_LIST,cv2.CHAIN_APPROX_SIMPLE)\n",
    "    n=len(contours)-1\n",
    "    return np.mean(np.array([[cv2.boundingRect(c)[0], cv2.boundingRect(c)[1],cv2.boundingRect(c)[2]+cv2.boundingRect(c)[0],cv2.boundingRect(c)[3]+ cv2.boundingRect(c)[1]] for c in sorted(contours,key=cv2.contourArea,reverse=False)[:len(contours)-1] \n",
    "]),axis = 0)"
   ]
  },
  {
   "cell_type": "code",
   "execution_count": 7,
   "metadata": {
    "collapsed": true
   },
   "outputs": [],
   "source": [
    "(rStart, rEnd) = face_utils.FACIAL_LANDMARKS_IDXS[\"right_eye\"]\n",
    "\n",
    "cap=cv2.VideoCapture(0)\n",
    "\n",
    "while True:\n",
    "    ret, frame=cap.read()\n",
    "    frame =cv2.flip(frame,1)\n",
    "    gray = cv2.cvtColor(frame, cv2.COLOR_BGR2GRAY)\n",
    "    subjects = detect(gray, 0)\n",
    "    mask = np.zeros_like(frame)\n",
    "      \n",
    "    for subject in subjects:\n",
    "  \n",
    "        shape = face_utils.shape_to_np(predict(gray, subject))\n",
    "        leftEye = shape[rStart:rEnd]  \n",
    "        pointl=pupil([leftEye])\n",
    "        \n",
    "        if pointl.size==4 :     \n",
    "\n",
    "            if [int((pointl[0]+pointl[2])/2),int((pointl[1]+pointl[3])/2)][0]  in range(leftEye[0][0],leftEye[1][0]) or [int((pointl[0]+pointl[2])/2),int((pointl[1]+pointl[3])/2)][0] in range(leftEye[0][0],leftEye[5][0]):\n",
    "                cv2.putText(frame, \"Left\", (25, 75),cv2.FONT_HERSHEY_SIMPLEX, 2 , (0, 150, 0), 5)\n",
    "            elif [int((pointl[0]+pointl[2])/2),int((pointl[1]+pointl[3])/2)][0] in range(leftEye[4][0],leftEye[3][0]) or [int((pointl[0]+pointl[2])/2),int((pointl[1]+pointl[3])/2)][0] in range(leftEye[2][0],leftEye[3][0]) :\n",
    "                cv2.putText(frame, \"right\", (25, 75),cv2.FONT_HERSHEY_SIMPLEX, 2 , (225, 0, 0), 5) \n",
    "            elif [int((pointl[0]+pointl[2])/2),int((pointl[1]+pointl[3])/2)][0] in range(leftEye[5][0]+1,leftEye[4][0]-2) and [int((pointl[0]+pointl[2])/2),int((pointl[1]+pointl[3])/2)][0] in range(leftEye[1][0]+1,leftEye[2][0]-2) :\n",
    "                cv2.putText(frame, \"straight\", (25, 75),cv2.FONT_HERSHEY_SIMPLEX, 2 , (0, 0, 225), 5)                \n",
    "           \n",
    "        \n",
    "\n",
    "    cv2.imshow(\"Frame\",frame)\n",
    "    if cv2.waitKey(1)==13:\n",
    "        break\n",
    "        \n",
    "    \n",
    "cap.release()\n",
    "cv2.destroyAllWindows()\n"
   ]
  }
 ],
 "metadata": {
  "kernelspec": {
   "display_name": "Python 3",
   "language": "python",
   "name": "python3"
  },
  "language_info": {
   "codemirror_mode": {
    "name": "ipython",
    "version": 3
   },
   "file_extension": ".py",
   "mimetype": "text/x-python",
   "name": "python",
   "nbconvert_exporter": "python",
   "pygments_lexer": "ipython3",
   "version": "3.6.2"
  }
 },
 "nbformat": 4,
 "nbformat_minor": 2
}
